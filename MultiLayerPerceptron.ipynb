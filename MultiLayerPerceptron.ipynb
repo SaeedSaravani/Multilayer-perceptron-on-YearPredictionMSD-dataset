{
 "cells": [
  {
   "cell_type": "code",
   "execution_count": 1,
   "metadata": {},
   "outputs": [],
   "source": [
    "import pandas as pd\n",
    "import numpy as np\n",
    "import matplotlib.pyplot as plt\n",
    "import tensorflow as tf\n",
    "from tensorflow import keras\n",
    "from sklearn.preprocessing import StandardScaler\n",
    "from sklearn.preprocessing import LabelBinarizer\n",
    "import seaborn as sns"
   ]
  },
  {
   "cell_type": "code",
   "execution_count": 97,
   "metadata": {
    "scrolled": true
   },
   "outputs": [
    {
     "name": "stdout",
     "output_type": "stream",
     "text": [
      "2.4.1\n"
     ]
    }
   ],
   "source": [
    "print(tf.__version__)"
   ]
  },
  {
   "cell_type": "markdown",
   "metadata": {},
   "source": [
    "# regression"
   ]
  },
  {
   "cell_type": "code",
   "execution_count": 2,
   "metadata": {},
   "outputs": [],
   "source": [
    "#prepare data for regression\n",
    "\n",
    "data = pd.read_csv('year_prediction.csv')\n",
    "data = data.sample(frac=1)\n",
    "data = data[data['label']>1940]\n",
    "data.reset_index(inplace=True, drop=True)\n",
    "\n",
    "X = data.iloc[:,1:]\n",
    "Y = data.iloc[:,0]\n",
    "\n",
    "\n",
    "# Train set\n",
    "X_train = X.iloc[0:463810,:]\n",
    "y_train = Y.iloc[0:463810]\n",
    "\n",
    "# Test set\n",
    "X_test = X.iloc[463810:,:]\n",
    "y_test = Y.iloc[463810:]\n",
    "\n",
    "scaler = StandardScaler()\n",
    "X_train = scaler.fit_transform(X_train)\n",
    "X_test = scaler.transform(X_test)"
   ]
  },
  {
   "cell_type": "code",
   "execution_count": 3,
   "metadata": {},
   "outputs": [],
   "source": [
    "def get_network():\n",
    "    model = keras.models.Sequential()\n",
    "    model.add(keras.layers.Dense(128, input_shape=(90,), activation=\"relu\"))\n",
    "    model.add(keras.layers.Dense(128, activation=\"relu\"))\n",
    "    model.add(keras.layers.Dense(1))\n",
    "    opt = keras.optimizers.Adam(learning_rate=0.001)\n",
    "    model.compile(loss= \"mse\", optimizer= opt, metrics=[\"mae\"])\n",
    "    return model"
   ]
  },
  {
   "cell_type": "code",
   "execution_count": 4,
   "metadata": {},
   "outputs": [],
   "source": [
    "class EarlyStoppingCallback(keras.callbacks.Callback):\n",
    "    \n",
    "    def __init__(self,patience = 0):\n",
    "        super(EarlyStoppingCallback,self).__init__()\n",
    "        self.patience = patience\n",
    "        \n",
    "    def on_train_begin(self, logs=None):\n",
    "        self.best = np.inf\n",
    "        self.wait = 0\n",
    "        self.stopped_epoch = 0\n",
    "        \n",
    "    def on_epoch_end(self,epoch,logs=None):\n",
    "        current_loss = logs.get('val_loss')\n",
    "        if np.less(current_loss,self.best):\n",
    "            self.best = current_loss\n",
    "            self.wait = 0\n",
    "            self.best_weights = self.model.get_weights()\n",
    "        else:\n",
    "            self.wait += 1\n",
    "            if self.wait >= self.patience:\n",
    "                self.stopped_epoch = epoch\n",
    "                self.model.stop_training = True\n",
    "                self.model.set_weights(self.best_weights)\n",
    "    \n",
    "    def on_train_end(self,logs=None):\n",
    "        if self.stopped_epoch > 0:\n",
    "            print('epoch: %d early stopping'% self.stopped_epoch)\n",
    "                \n",
    "        "
   ]
  },
  {
   "cell_type": "code",
   "execution_count": 5,
   "metadata": {},
   "outputs": [
    {
     "name": "stdout",
     "output_type": "stream",
     "text": [
      "Epoch 1/50\n",
      "   1/5653 [..............................] - ETA: 4:33:37 - loss: 3986170.5000 - mae: 1996.5044WARNING:tensorflow:Callback method `on_train_batch_end` is slow compared to the batch time (batch time: 0.0011s vs `on_train_batch_end` time: 0.0026s). Check your callbacks.\n",
      "5653/5653 [==============================] - 9s 1ms/step - loss: 556762.1131 - mae: 461.7849 - val_loss: 1508.6749 - val_mae: 25.0797\n",
      "Epoch 2/50\n",
      "5653/5653 [==============================] - 6s 1ms/step - loss: 466.8959 - mae: 13.5983 - val_loss: 182.7217 - val_mae: 8.7744\n",
      "Epoch 3/50\n",
      "5653/5653 [==============================] - 6s 1ms/step - loss: 213.7516 - mae: 9.9985 - val_loss: 400.3651 - val_mae: 13.9189\n",
      "Epoch 4/50\n",
      "5653/5653 [==============================] - 6s 1ms/step - loss: 198.6553 - mae: 9.7320 - val_loss: 179.7894 - val_mae: 9.2243\n",
      "Epoch 5/50\n",
      "5653/5653 [==============================] - 6s 1ms/step - loss: 222.4614 - mae: 9.8148 - val_loss: 216.0213 - val_mae: 10.6769\n",
      "Epoch 6/50\n",
      "5653/5653 [==============================] - 7s 1ms/step - loss: 204.2010 - mae: 9.9611 - val_loss: 115.6082 - val_mae: 8.0994\n",
      "Epoch 7/50\n",
      "5653/5653 [==============================] - 7s 1ms/step - loss: 187.6413 - mae: 9.2510 - val_loss: 128.6546 - val_mae: 8.0529\n",
      "Epoch 8/50\n",
      "5653/5653 [==============================] - 6s 1ms/step - loss: 192.2419 - mae: 9.3574 - val_loss: 114.7442 - val_mae: 7.3865\n",
      "Epoch 9/50\n",
      "5653/5653 [==============================] - 7s 1ms/step - loss: 162.6194 - mae: 8.7365 - val_loss: 201.1478 - val_mae: 9.7878\n",
      "Epoch 10/50\n",
      "5653/5653 [==============================] - 6s 1ms/step - loss: 169.0215 - mae: 9.0321 - val_loss: 123.4730 - val_mae: 7.7968\n",
      "Epoch 11/50\n",
      "5653/5653 [==============================] - 6s 1ms/step - loss: 158.5338 - mae: 8.6255 - val_loss: 167.8108 - val_mae: 9.5476\n",
      "Epoch 12/50\n",
      "5653/5653 [==============================] - 7s 1ms/step - loss: 139.7448 - mae: 8.3812 - val_loss: 94.1314 - val_mae: 7.0372\n",
      "Epoch 13/50\n",
      "5653/5653 [==============================] - 7s 1ms/step - loss: 148.6601 - mae: 8.2747 - val_loss: 96.2622 - val_mae: 6.9439\n",
      "Epoch 14/50\n",
      "5653/5653 [==============================] - 7s 1ms/step - loss: 152.4186 - mae: 8.2891 - val_loss: 91.7968 - val_mae: 6.9433\n",
      "Epoch 15/50\n",
      "5653/5653 [==============================] - 7s 1ms/step - loss: 143.4052 - mae: 8.3432 - val_loss: 105.8384 - val_mae: 7.0306\n",
      "Epoch 16/50\n",
      "5653/5653 [==============================] - 6s 1ms/step - loss: 126.9010 - mae: 8.0524 - val_loss: 119.9522 - val_mae: 7.9472\n",
      "Epoch 17/50\n",
      "5653/5653 [==============================] - 7s 1ms/step - loss: 129.8361 - mae: 8.1166 - val_loss: 110.7259 - val_mae: 7.6420\n",
      "Epoch 18/50\n",
      "5653/5653 [==============================] - 7s 1ms/step - loss: 123.5916 - mae: 8.0592 - val_loss: 157.4048 - val_mae: 9.2202\n",
      "Epoch 19/50\n",
      "5653/5653 [==============================] - 7s 1ms/step - loss: 130.8765 - mae: 8.2496 - val_loss: 95.0901 - val_mae: 6.9487\n",
      "epoch: 18 early stopping\n"
     ]
    },
    {
     "data": {
      "text/plain": [
       "<tensorflow.python.keras.callbacks.History at 0x1fa0025f630>"
      ]
     },
     "execution_count": 5,
     "metadata": {},
     "output_type": "execute_result"
    }
   ],
   "source": [
    "model = get_network()\n",
    "model = keras.wrappers.scikit_learn.KerasRegressor(build_fn=get_network, epochs=50, batch_size=64)\n",
    "EarlyStoppingCallback = EarlyStoppingCallback(patience=5)\n",
    "model.fit(X_train,y_train,validation_split = 0.22,callbacks=[EarlyStoppingCallback])"
   ]
  },
  {
   "cell_type": "code",
   "execution_count": 6,
   "metadata": {},
   "outputs": [],
   "source": [
    "preds = model.predict(X_test)"
   ]
  },
  {
   "cell_type": "code",
   "execution_count": 11,
   "metadata": {},
   "outputs": [],
   "source": [
    "pred_list = []\n",
    "for i in range (51007):\n",
    "    pred_list.append(int(preds[i]))\n"
   ]
  },
  {
   "cell_type": "code",
   "execution_count": 164,
   "metadata": {
    "scrolled": true
   },
   "outputs": [
    {
     "data": {
      "text/plain": [
       "(51007,)"
      ]
     },
     "execution_count": 164,
     "metadata": {},
     "output_type": "execute_result"
    }
   ],
   "source": [
    "y_test.shape"
   ]
  },
  {
   "cell_type": "code",
   "execution_count": 14,
   "metadata": {},
   "outputs": [
    {
     "data": {
      "text/plain": [
       "0.05287509557511714"
      ]
     },
     "execution_count": 14,
     "metadata": {},
     "output_type": "execute_result"
    }
   ],
   "source": [
    "#accuracy of regression\n",
    "def accuracy(y_true, y_pred):\n",
    "    accuracy = np.sum(y_true == y_pred) / len(y_true)\n",
    "    return accuracy\n",
    "\n",
    "\n",
    "accuracy(y_test,pred_list)"
   ]
  },
  {
   "cell_type": "code",
   "execution_count": 171,
   "metadata": {},
   "outputs": [
    {
     "data": {
      "text/plain": [
       "100.869225"
      ]
     },
     "execution_count": 171,
     "metadata": {},
     "output_type": "execute_result"
    }
   ],
   "source": [
    "errors = ((preds-y_test)*(preds-y_test)/(51007))\n",
    "errors.sum()"
   ]
  },
  {
   "cell_type": "code",
   "execution_count": 166,
   "metadata": {},
   "outputs": [
    {
     "data": {
      "text/plain": [
       "6.732452"
      ]
     },
     "execution_count": 166,
     "metadata": {},
     "output_type": "execute_result"
    }
   ],
   "source": [
    "errors = (np.abs(preds-y_test)/(51007))\n",
    "errors.sum()"
   ]
  },
  {
   "cell_type": "markdown",
   "metadata": {},
   "source": [
    "# classification / 7 class"
   ]
  },
  {
   "cell_type": "code",
   "execution_count": 122,
   "metadata": {},
   "outputs": [
    {
     "data": {
      "image/png": "[encoded data removed]",
      "text/plain": [
       "<Figure size 1152x504 with 2 Axes>"
      ]
     },
     "metadata": {
      "needs_background": "light"
     },
     "output_type": "display_data"
    }
   ],
   "source": [
    "from sklearn.utils import shuffle\n",
    "data = pd.read_csv('year_prediction.csv')\n",
    "data['label'] = data.label.apply(lambda year : year-(year%10))\n",
    "data = data[data['label']>1940]\n",
    "data = data.sample(frac=1)\n",
    "data.reset_index(inplace=True, drop=True)\n",
    "\n",
    "\n",
    "train = data.iloc[:463810]\n",
    "test = data.iloc[463810:]\n",
    "\n",
    "#train\n",
    "X_train = train.drop('label', axis=1)\n",
    "y_train = train['label']\n",
    "\n",
    "# Test set\n",
    "X_test = test.drop('label', axis=1)\n",
    "y_test = test['label']\n",
    "\n",
    "f,ax=plt.subplots(1,2,figsize=(16,7))\n",
    "sns.countplot(y_train, ax=ax[0])\n",
    "sns.countplot(y_test, ax=ax[1])\n",
    "ax[0].set_title(\"Train Labels Dist\")\n",
    "ax[1].set_title(\"Test Labels Dist\")\n",
    "ax[0].set_xlabel('decade')\n",
    "ax[0].set_ylabel('number of released music')\n",
    "ax[1].set_xlabel('decade')\n",
    "ax[1].set_ylabel('number of released music')\n",
    "plt.show()\n",
    "\n",
    "\n",
    "#prepare data for classification\n",
    "#normalize features and Binarize labels\n",
    "\n",
    "scaler = StandardScaler()\n",
    "X_train = scaler.fit_transform(X_train)\n",
    "X_test = scaler.transform(X_test)\n",
    "\n",
    "lb = LabelBinarizer()\n",
    "y_train = lb.fit_transform(y_train)\n",
    "y_test = lb.transform(y_test)\n",
    "\n",
    "X_train,y_train = shuffle(X_train,y_train)\n",
    "scaler = StandardScaler()\n",
    "X_train = scaler.fit_transform(X_train)"
   ]
  },
  {
   "cell_type": "code",
   "execution_count": 138,
   "metadata": {},
   "outputs": [],
   "source": [
    "def get_network():\n",
    "    model = keras.models.Sequential()\n",
    "    model.add(keras.layers.Dense(512, input_shape=(90,), activation=\"relu\"))\n",
    "    model.add(keras.layers.Dense(512, activation=\"relu\"))\n",
    "    model.add(keras.layers.Dense(7, activation=\"softmax\"))\n",
    "    opt = keras.optimizers.Adam(learning_rate=0.001)\n",
    "    model.compile(loss= \"categorical_crossentropy\", optimizer= opt, metrics=[\"accuracy\"])\n",
    "    return model"
   ]
  },
  {
   "cell_type": "code",
   "execution_count": 173,
   "metadata": {},
   "outputs": [],
   "source": [
    "class EarlyStoppingCallback(keras.callbacks.Callback):\n",
    "    \n",
    "    def __init__(self,patience = 0):\n",
    "        super(EarlyStoppingCallback,self).__init__()\n",
    "        self.patience = patience\n",
    "        \n",
    "    def on_train_begin(self, logs=None):\n",
    "        self.best = np.inf\n",
    "        self.wait = 0\n",
    "        self.stopped_epoch = 0\n",
    "        \n",
    "    def on_epoch_end(self,epoch,logs=None):\n",
    "        current_loss = logs.get('val_loss')\n",
    "        if np.less(current_loss,self.best):\n",
    "            self.best = current_loss\n",
    "            self.wait = 0\n",
    "            self.best_weights = self.model.get_weights()\n",
    "        else:\n",
    "            self.wait += 1\n",
    "            if self.wait >= self.patience:\n",
    "                self.stopped_epoch = epoch\n",
    "                self.model.stop_training = True\n",
    "                self.model.set_weights(self.best_weights)\n",
    "    \n",
    "    def on_train_end(self,logs=None):\n",
    "        if self.stopped_epoch > 0:\n",
    "            print('epoch: %d early stopping'% self.stopped_epoch)\n",
    "                \n",
    "        "
   ]
  },
  {
   "cell_type": "code",
   "execution_count": 174,
   "metadata": {
    "scrolled": true
   },
   "outputs": [
    {
     "name": "stdout",
     "output_type": "stream",
     "text": [
      "Epoch 1/50\n",
      "11306/11306 [==============================] - 14s 1ms/step - loss: 363953.2941 - mae: 324.3379 - val_loss: 854.2189 - val_mae: 18.9617\n",
      "Epoch 2/50\n",
      "11306/11306 [==============================] - 12s 1ms/step - loss: 486.4752 - mae: 13.4547 - val_loss: 208.7411 - val_mae: 10.4891\n",
      "Epoch 3/50\n",
      "11306/11306 [==============================] - 12s 1ms/step - loss: 230.1430 - mae: 10.6162 - val_loss: 190.0526 - val_mae: 9.7954\n",
      "Epoch 4/50\n",
      "11306/11306 [==============================] - 13s 1ms/step - loss: 218.0739 - mae: 9.9961 - val_loss: 196.4312 - val_mae: 10.4401\n",
      "Epoch 5/50\n",
      "11306/11306 [==============================] - 12s 1ms/step - loss: 217.3937 - mae: 10.0859 - val_loss: 374.6031 - val_mae: 13.2290\n",
      "Epoch 6/50\n",
      "11306/11306 [==============================] - 12s 1ms/step - loss: 197.2941 - mae: 9.8068 - val_loss: 137.5673 - val_mae: 8.2280\n",
      "Epoch 7/50\n",
      "11306/11306 [==============================] - 12s 1ms/step - loss: 177.9494 - mae: 9.2060 - val_loss: 161.4607 - val_mae: 9.8256\n",
      "Epoch 8/50\n",
      "11306/11306 [==============================] - 12s 1ms/step - loss: 185.2439 - mae: 9.5601 - val_loss: 139.5166 - val_mae: 8.7322\n",
      "Epoch 9/50\n",
      "11306/11306 [==============================] - 11s 1ms/step - loss: 173.9567 - mae: 9.2349 - val_loss: 105.3026 - val_mae: 7.3912\n",
      "Epoch 10/50\n",
      "11306/11306 [==============================] - 11s 1ms/step - loss: 159.1326 - mae: 8.8088 - val_loss: 127.5829 - val_mae: 8.8615\n",
      "Epoch 11/50\n",
      "11306/11306 [==============================] - 12s 1ms/step - loss: 179.5275 - mae: 9.1018 - val_loss: 129.5400 - val_mae: 8.2632\n",
      "Epoch 12/50\n",
      "11306/11306 [==============================] - 12s 1ms/step - loss: 160.6728 - mae: 8.8361 - val_loss: 107.0792 - val_mae: 7.6949\n",
      "Epoch 13/50\n",
      "11306/11306 [==============================] - 13s 1ms/step - loss: 169.9660 - mae: 8.9804 - val_loss: 144.9560 - val_mae: 8.8848\n",
      "Epoch 14/50\n",
      "11306/11306 [==============================] - 12s 1ms/step - loss: 156.3903 - mae: 8.6938 - val_loss: 347.9103 - val_mae: 13.8966\n",
      "epoch: 13 early stopping\n"
     ]
    },
    {
     "data": {
      "text/plain": [
       "<tensorflow.python.keras.callbacks.History at 0x1a685f40e80>"
      ]
     },
     "execution_count": 174,
     "metadata": {},
     "output_type": "execute_result"
    }
   ],
   "source": [
    "model = get_network()\n",
    "model = keras.wrappers.scikit_learn.KerasRegressor(build_fn=get_network, epochs=50, batch_size=32)\n",
    "\n",
    "EarlyStoppingCallback = EarlyStoppingCallback(patience=5)\n",
    "model.fit(X_train,y_train,validation_split = 0.22,callbacks=[EarlyStoppingCallback])\n",
    "\n"
   ]
  },
  {
   "cell_type": "code",
   "execution_count": 142,
   "metadata": {
    "scrolled": true
   },
   "outputs": [
    {
     "name": "stderr",
     "output_type": "stream",
     "text": [
      "C:\\Users\\Lenovo\\AppData\\Roaming\\Python\\Python37\\site-packages\\tensorflow\\python\\keras\\engine\\sequential.py:450: UserWarning: `model.predict_classes()` is deprecated and will be removed after 2021-01-01. Please use instead:* `np.argmax(model.predict(x), axis=-1)`,   if your model does multi-class classification   (e.g. if it uses a `softmax` last-layer activation).* `(model.predict(x) > 0.5).astype(\"int32\")`,   if your model does binary classification   (e.g. if it uses a `sigmoid` last-layer activation).\n",
      "  warnings.warn('`model.predict_classes()` is deprecated and '\n"
     ]
    }
   ],
   "source": [
    "preds = model.predict(X_test)"
   ]
  },
  {
   "cell_type": "code",
   "execution_count": 149,
   "metadata": {},
   "outputs": [],
   "source": [
    "label_single = [i.argmax() for i in y_test]"
   ]
  },
  {
   "cell_type": "code",
   "execution_count": 152,
   "metadata": {},
   "outputs": [],
   "source": [
    "def accuracy(y_true, y_pred):\n",
    "    accuracy = np.sum(y_true == y_pred) / len(y_true)\n",
    "    return accuracy"
   ]
  },
  {
   "cell_type": "code",
   "execution_count": 153,
   "metadata": {},
   "outputs": [
    {
     "data": {
      "text/plain": [
       "0.6604145711299134"
      ]
     },
     "execution_count": 153,
     "metadata": {},
     "output_type": "execute_result"
    }
   ],
   "source": [
    "#accuracy on test dataset\n",
    "accuracy(label_single, preds)"
   ]
  },
  {
   "cell_type": "code",
   "execution_count": 151,
   "metadata": {},
   "outputs": [
    {
     "data": {
      "text/plain": [
       "<AxesSubplot:>"
      ]
     },
     "execution_count": 151,
     "metadata": {},
     "output_type": "execute_result"
    },
    {
     "data": {
      "image/png": "[encoded data removed]",
      "text/plain": [
       "<Figure size 432x288 with 2 Axes>"
      ]
     },
     "metadata": {
      "needs_background": "light"
     },
     "output_type": "display_data"
    }
   ],
   "source": [
    "from sklearn.metrics import confusion_matrix\n",
    "\n",
    "cm = confusion_matrix(label_single, preds)\n",
    "cm_df= pd.DataFrame(cm)\n",
    "cm_df = cm_df.apply(lambda x: x/sum(x), axis ='columns')\n",
    "sns.heatmap(cm_df)"
   ]
  },
  {
   "cell_type": "markdown",
   "metadata": {},
   "source": [
    "# classification /71 class"
   ]
  },
  {
   "cell_type": "code",
   "execution_count": 111,
   "metadata": {},
   "outputs": [
    {
     "data": {
      "image/png": "[encoded data removed]",
      "text/plain": [
       "<Figure size 1152x504 with 2 Axes>"
      ]
     },
     "metadata": {
      "needs_background": "light"
     },
     "output_type": "display_data"
    }
   ],
   "source": [
    "from sklearn.utils import shuffle\n",
    "data = pd.read_csv('year_prediction.csv')\n",
    "\n",
    "data = data[data['label']>1940]\n",
    "data = data.sample(frac=1)\n",
    "data.reset_index(inplace=True, drop=True)\n",
    "\n",
    "\n",
    "train = data.iloc[:463810]\n",
    "test = data.iloc[463810:]\n",
    "\n",
    "#train\n",
    "X_train = train.drop('label', axis=1)\n",
    "y_train = train['label']\n",
    "\n",
    "# Test set\n",
    "X_test = test.drop('label', axis=1)\n",
    "y_test = test['label']\n",
    "\n",
    "f,ax=plt.subplots(1,2,figsize=(16,7))\n",
    "sns.countplot(y_train, ax=ax[0])\n",
    "sns.countplot(y_test, ax=ax[1])\n",
    "ax[0].set_title(\"Train Labels Dist\")\n",
    "ax[1].set_title(\"Test Labels Dist\")\n",
    "ax[0].set_xlabel('decade')\n",
    "ax[0].set_ylabel('number of released music')\n",
    "ax[1].set_xlabel('decade')\n",
    "ax[1].set_ylabel('number of released music')\n",
    "plt.show()\n",
    "\n",
    "\n",
    "#prepare data for classification\n",
    "#normalize features and Binarize labels\n",
    "\n",
    "scaler = StandardScaler()\n",
    "X_train = scaler.fit_transform(X_train)\n",
    "X_test = scaler.transform(X_test)\n",
    "\n",
    "lb = LabelBinarizer()\n",
    "y_train = lb.fit_transform(y_train)\n",
    "y_test = lb.transform(y_test)\n",
    "\n",
    "X_train,y_train = shuffle(X_train,y_train)\n",
    "scaler = StandardScaler()\n",
    "X_train = scaler.fit_transform(X_train)"
   ]
  },
  {
   "cell_type": "code",
   "execution_count": 116,
   "metadata": {},
   "outputs": [],
   "source": [
    "def get_network():\n",
    "    model = keras.models.Sequential()\n",
    "    model.add(keras.layers.Dense(32, input_shape=(90,), activation=\"relu\"))\n",
    "    model.add(keras.layers.Dense(32, activation=\"relu\"))\n",
    "    model.add(keras.layers.Dense(70, activation=\"softmax\"))\n",
    "    opt = keras.optimizers.Adam(learning_rate=0.001)\n",
    "    model.compile(loss= \"categorical_crossentropy\", optimizer= opt, metrics=[\"accuracy\"])\n",
    "    return model"
   ]
  },
  {
   "cell_type": "code",
   "execution_count": 117,
   "metadata": {},
   "outputs": [],
   "source": [
    "class EarlyStoppingCallback(keras.callbacks.Callback):\n",
    "    \n",
    "    def __init__(self,patience = 0):\n",
    "        super(EarlyStoppingCallback,self).__init__()\n",
    "        self.patience = patience\n",
    "        \n",
    "    def on_train_begin(self, logs=None):\n",
    "        self.best = np.inf\n",
    "        self.wait = 0\n",
    "        self.stopped_epoch = 0\n",
    "        \n",
    "    def on_epoch_end(self,epoch,logs=None):\n",
    "        current_loss = logs.get('val_loss')\n",
    "        if np.less(current_loss,self.best):\n",
    "            self.best = current_loss\n",
    "            self.wait = 0\n",
    "            self.best_weights = self.model.get_weights()\n",
    "        else:\n",
    "            self.wait += 1\n",
    "            if self.wait >= self.patience:\n",
    "                self.stopped_epoch = epoch\n",
    "                self.model.stop_training = True\n",
    "                self.model.set_weights(self.best_weights)\n",
    "    \n",
    "    def on_train_end(self,logs=None):\n",
    "        if self.stopped_epoch > 0:\n",
    "            print('epoch: %d early stopping'% self.stopped_epoch)\n",
    "                \n",
    "        "
   ]
  },
  {
   "cell_type": "code",
   "execution_count": 118,
   "metadata": {},
   "outputs": [
    {
     "name": "stdout",
     "output_type": "stream",
     "text": [
      "Epoch 1/50\n",
      "11306/11306 [==============================] - 10s 847us/step - loss: 3.2751 - accuracy: 0.0787 - val_loss: 3.1263 - val_accuracy: 0.0871\n",
      "Epoch 2/50\n",
      "11306/11306 [==============================] - 10s 918us/step - loss: 3.1111 - accuracy: 0.0909 - val_loss: 3.1018 - val_accuracy: 0.0916\n",
      "Epoch 3/50\n",
      "11306/11306 [==============================] - 11s 950us/step - loss: 3.0903 - accuracy: 0.0938 - val_loss: 3.0910 - val_accuracy: 0.0930\n",
      "Epoch 4/50\n",
      "11306/11306 [==============================] - 11s 988us/step - loss: 3.0816 - accuracy: 0.0945 - val_loss: 3.0907 - val_accuracy: 0.0934\n",
      "Epoch 5/50\n",
      "11306/11306 [==============================] - 11s 1ms/step - loss: 3.0770 - accuracy: 0.0960 - val_loss: 3.0829 - val_accuracy: 0.0956\n",
      "Epoch 6/50\n",
      "11306/11306 [==============================] - 12s 1ms/step - loss: 3.0720 - accuracy: 0.0951 - val_loss: 3.0797 - val_accuracy: 0.0962\n",
      "Epoch 7/50\n",
      "11306/11306 [==============================] - 11s 932us/step - loss: 3.0675 - accuracy: 0.0967 - val_loss: 3.0837 - val_accuracy: 0.0945\n",
      "Epoch 8/50\n",
      "11306/11306 [==============================] - 11s 957us/step - loss: 3.0693 - accuracy: 0.0959 - val_loss: 3.0791 - val_accuracy: 0.0946\n",
      "Epoch 9/50\n",
      "11306/11306 [==============================] - 11s 1ms/step - loss: 3.0661 - accuracy: 0.0971 - val_loss: 3.0777 - val_accuracy: 0.0961\n",
      "Epoch 10/50\n",
      "11306/11306 [==============================] - 11s 990us/step - loss: 3.0635 - accuracy: 0.0968 - val_loss: 3.0807 - val_accuracy: 0.0966\n",
      "Epoch 11/50\n",
      "11306/11306 [==============================] - 12s 1ms/step - loss: 3.0623 - accuracy: 0.0963 - val_loss: 3.0791 - val_accuracy: 0.0957\n",
      "Epoch 12/50\n",
      "11306/11306 [==============================] - 11s 1ms/step - loss: 3.0623 - accuracy: 0.0966 - val_loss: 3.0779 - val_accuracy: 0.0970\n",
      "Epoch 13/50\n",
      "11306/11306 [==============================] - 11s 986us/step - loss: 3.0626 - accuracy: 0.0967 - val_loss: 3.0772 - val_accuracy: 0.0961\n",
      "Epoch 14/50\n",
      "11306/11306 [==============================] - 11s 969us/step - loss: 3.0607 - accuracy: 0.0975 - val_loss: 3.0761 - val_accuracy: 0.0963\n",
      "Epoch 15/50\n",
      "11306/11306 [==============================] - 11s 1ms/step - loss: 3.0613 - accuracy: 0.0973 - val_loss: 3.0787 - val_accuracy: 0.0959\n",
      "Epoch 16/50\n",
      "11306/11306 [==============================] - 11s 978us/step - loss: 3.0592 - accuracy: 0.0965 - val_loss: 3.0791 - val_accuracy: 0.0946\n",
      "Epoch 17/50\n",
      "11306/11306 [==============================] - 11s 987us/step - loss: 3.0593 - accuracy: 0.0971 - val_loss: 3.0791 - val_accuracy: 0.0951\n",
      "Epoch 18/50\n",
      "11306/11306 [==============================] - 11s 987us/step - loss: 3.0576 - accuracy: 0.0985 - val_loss: 3.0766 - val_accuracy: 0.0972\n",
      "Epoch 19/50\n",
      "11306/11306 [==============================] - 11s 1ms/step - loss: 3.0605 - accuracy: 0.0979 - val_loss: 3.0774 - val_accuracy: 0.0972\n",
      "epoch: 18 early stopping\n"
     ]
    },
    {
     "data": {
      "text/plain": [
       "<tensorflow.python.keras.callbacks.History at 0x1a6848886a0>"
      ]
     },
     "execution_count": 118,
     "metadata": {},
     "output_type": "execute_result"
    }
   ],
   "source": [
    "model = get_network()\n",
    "model = keras.wrappers.scikit_learn.KerasClassifier(build_fn=get_network, epochs=50, batch_size=32)\n",
    "\n",
    "EarlyStoppingCallback = EarlyStoppingCallback(patience=5)\n",
    "model.fit(X_train,y_train,validation_split = 0.22,callbacks=[EarlyStoppingCallback])\n"
   ]
  },
  {
   "cell_type": "code",
   "execution_count": null,
   "metadata": {},
   "outputs": [],
   "source": []
  }
 ],
 "metadata": {
  "kernelspec": {
   "display_name": "Python 3",
   "language": "python",
   "name": "python3"
  },
  "language_info": {
   "codemirror_mode": {
    "name": "ipython",
    "version": 3
   },
   "file_extension": ".py",
   "mimetype": "text/x-python",
   "name": "python",
   "nbconvert_exporter": "python",
   "pygments_lexer": "ipython3",
   "version": "3.7.3"
  }
 },
 "nbformat": 4,
 "nbformat_minor": 2
}
